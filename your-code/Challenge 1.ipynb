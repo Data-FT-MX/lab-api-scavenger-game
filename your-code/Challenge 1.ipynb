{
 "cells": [
  {
   "cell_type": "code",
   "execution_count": 2,
   "id": "e9255fbc",
   "metadata": {},
   "outputs": [
    {
     "data": {
      "text/plain": [
       "Repository(full_name=\"ta-data-mex/lab-api-scavenger-game\")"
      ]
     },
     "execution_count": 2,
     "metadata": {},
     "output_type": "execute_result"
    }
   ],
   "source": [
    "import time\n",
    "from datetime import datetime\n",
    "from github import Github\n",
    "\n",
    "token = \"\"\n",
    "github = Github(token)\n",
    "user = github.get_user()\n",
    "lab = \"ta-data-mex/lab-api-scavenger-game\"\n",
    "repo = github.get_repo(lab)\n",
    "repo"
   ]
  },
  {
   "cell_type": "code",
   "execution_count": 4,
   "id": "0c715702",
   "metadata": {},
   "outputs": [
    {
     "data": {
      "text/plain": [
       "['Jupyter Notebook', 'Python']"
      ]
     },
     "execution_count": 4,
     "metadata": {},
     "output_type": "execute_result"
    }
   ],
   "source": [
    "forks = repo.get_forks()\n",
    "list_forks = list(forks)\n",
    "\n",
    "languages = []\n",
    "for item in list_forks:\n",
    "    x = list(item.get_languages().keys())\n",
    "    for i in x:\n",
    "        languages.append(i)\n",
    "        \n",
    "languages_list = set(languages)\n",
    "languages_list = list(languages_list)\n",
    "languages_list"
   ]
  }
 ],
 "metadata": {
  "kernelspec": {
   "display_name": "Python 3 (ipykernel)",
   "language": "python",
   "name": "python3"
  },
  "language_info": {
   "codemirror_mode": {
    "name": "ipython",
    "version": 3
   },
   "file_extension": ".py",
   "mimetype": "text/x-python",
   "name": "python",
   "nbconvert_exporter": "python",
   "pygments_lexer": "ipython3",
   "version": "3.10.3"
  }
 },
 "nbformat": 4,
 "nbformat_minor": 5
}
