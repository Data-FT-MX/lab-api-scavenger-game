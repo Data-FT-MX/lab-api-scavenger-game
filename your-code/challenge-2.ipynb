{
 "cells": [
  {
   "cell_type": "code",
   "execution_count": 28,
   "id": "1d4975e1",
   "metadata": {},
   "outputs": [
    {
     "name": "stdout",
     "output_type": "stream",
     "text": [
      "Repository(full_name=\"ironhack-datalabs/mad-oct-2018\")\n",
      "FranciscoEP\n"
     ]
    }
   ],
   "source": [
    "# enter your code below\n",
    "from github import Github\n",
    "from datetime import datetime \n",
    "import requests  \n",
    "# Module Variables    \n",
    "lab = 'ta-data-mex/lab-api-scavenger-game'\n",
    "# Tried with another lab because ta data only had one commit since 2019\n",
    "lab_1 = 'ironhack-datalabs/madrid-oct-2018'\n",
    "# Add your token\n",
    "token = ''\n",
    "\n",
    "#Token access\n",
    "github = Github(token)\n",
    "\n",
    "repo = github.get_repo(lab)\n",
    "print(repo)\n",
    "\n",
    "user = github.get_user()\n",
    "print(user.login)\n"
   ]
  },
  {
   "cell_type": "markdown",
   "id": "7ad044ee",
   "metadata": {},
   "source": [
    "# Challenge 2: Count commits"
   ]
  },
  {
   "cell_type": "code",
   "execution_count": 37,
   "id": "89b5bae0",
   "metadata": {},
   "outputs": [
    {
     "data": {
      "text/plain": [
       "35"
      ]
     },
     "execution_count": 37,
     "metadata": {},
     "output_type": "execute_result"
    }
   ],
   "source": [
    "commits = list(repo.get_commits(since=datetime(2019,1,1)))\n",
    "len(commits)"
   ]
  }
 ],
 "metadata": {
  "kernelspec": {
   "display_name": "Python 3 (ipykernel)",
   "language": "python",
   "name": "python3"
  },
  "language_info": {
   "codemirror_mode": {
    "name": "ipython",
    "version": 3
   },
   "file_extension": ".py",
   "mimetype": "text/x-python",
   "name": "python",
   "nbconvert_exporter": "python",
   "pygments_lexer": "ipython3",
   "version": "3.8.9"
  }
 },
 "nbformat": 4,
 "nbformat_minor": 5
}
