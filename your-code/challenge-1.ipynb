{
 "cells": [
  {
   "cell_type": "code",
   "execution_count": 1,
   "id": "f2a01594",
   "metadata": {},
   "outputs": [],
   "source": [
    "from github import Github"
   ]
  },
  {
   "cell_type": "markdown",
   "id": "07c3fc2d",
   "metadata": {},
   "source": [
    "# Challenge 1"
   ]
  },
  {
   "cell_type": "code",
   "execution_count": 2,
   "id": "f93cc267",
   "metadata": {},
   "outputs": [],
   "source": [
    "# Con el token de github entramos al API Wrapers\n",
    "\n",
    "token = '' # Aqui se coloca el token de github\n",
    "github = Github(token)"
   ]
  },
  {
   "cell_type": "code",
   "execution_count": 8,
   "id": "86f370c5",
   "metadata": {},
   "outputs": [
    {
     "data": {
      "text/plain": [
       "'mad-oct-2018'"
      ]
     },
     "execution_count": 8,
     "metadata": {},
     "output_type": "execute_result"
    }
   ],
   "source": [
    "repo = github.get_repo('ironhack-datalabs/madrid-oct-2018')\n",
    "repo.name"
   ]
  },
  {
   "cell_type": "code",
   "execution_count": 13,
   "id": "947c4b3d",
   "metadata": {},
   "outputs": [
    {
     "data": {
      "text/plain": [
       "[Repository(full_name=\"luisbang/mad-oct-2018\"),\n",
       " Repository(full_name=\"Forastierii/mad-oct-2018\"),\n",
       " Repository(full_name=\"ToniPons97/mad-oct-2018\"),\n",
       " Repository(full_name=\"rsennes/mad-oct-2018\"),\n",
       " Repository(full_name=\"gggfaria/mad-oct-2018\"),\n",
       " Repository(full_name=\"nancyulric/mad-oct-2018\"),\n",
       " Repository(full_name=\"lmartinezruizit/datamad0119\"),\n",
       " Repository(full_name=\"eye8/madrid-oct-2018\"),\n",
       " Repository(full_name=\"ArieHassan/madrid-oct-2018\"),\n",
       " Repository(full_name=\"cmvalma/Ironhack-oct-2018\"),\n",
       " Repository(full_name=\"criraca/madrid-oct-2018\"),\n",
       " Repository(full_name=\"AlbertoCastellanos/madrid-oct-2018\"),\n",
       " Repository(full_name=\"elenajpp/madrid-oct-2018\"),\n",
       " Repository(full_name=\"miriammg/madrid-oct-2018\"),\n",
       " Repository(full_name=\"albertogcmr/madrid-oct-2018\"),\n",
       " Repository(full_name=\"marisfont/madrid-oct-2018\")]"
      ]
     },
     "execution_count": 13,
     "metadata": {},
     "output_type": "execute_result"
    }
   ],
   "source": [
    "# Con el comando get_fork obtenemos todos los forks del repositorio\n",
    "forks = repo.get_forks()\n",
    "list(forks)"
   ]
  },
  {
   "cell_type": "code",
   "execution_count": 22,
   "id": "6cf6cbc5",
   "metadata": {},
   "outputs": [
    {
     "data": {
      "text/plain": [
       "['Jupyter Notebook', 'HTML', 'Python', 'Shell']"
      ]
     },
     "execution_count": 22,
     "metadata": {},
     "output_type": "execute_result"
    }
   ],
   "source": [
    "# Para obtener la lista de los lenguajes usamos el comando get_lenguaje\n",
    "\n",
    "languajes = []\n",
    "for fork in forks:\n",
    "    for lang in fork.get_languages():\n",
    "        if lang not in languajes:\n",
    "            languajes.append(lang)\n",
    "            \n",
    "languajes # Lista de los nombres de los lenguajes usados en cada repositorio sin repeticion"
   ]
  },
  {
   "cell_type": "markdown",
   "id": "513fc7c1",
   "metadata": {},
   "source": [
    "# Challenge 2"
   ]
  },
  {
   "cell_type": "code",
   "execution_count": 66,
   "id": "abcdf1e5",
   "metadata": {},
   "outputs": [],
   "source": [
    "# Usamos el comando get_commits para obtener todos los commits realizados en el repositorio\n",
    "commit = repo.get_commits()"
   ]
  },
  {
   "cell_type": "code",
   "execution_count": 67,
   "id": "a1e4b780",
   "metadata": {
    "scrolled": true
   },
   "outputs": [
    {
     "name": "stdout",
     "output_type": "stream",
     "text": [
      "El numero de commits hecho en la ultima semana es 1\n"
     ]
    }
   ],
   "source": [
    "# Usando commit.author.data podemos obtener la fecha del commit\n",
    "actual_date = commit[0].commit.author.date\n",
    "\n",
    "count = 0\n",
    "for i in commit:\n",
    "    date = i.commit.author.date\n",
    "    if (actual_date - date).days <= 7:  # Restamos la fecha del ultimo commit con las demas. Si el numero de dias es menor\n",
    "        count += 1                      # o igual a 7 es por que el mismo se realizo en la ultima semana \n",
    "        \n",
    "print(f'El numero de commits hecho en la ultima semana es {count}')"
   ]
  },
  {
   "cell_type": "markdown",
   "id": "d5641fb2",
   "metadata": {},
   "source": [
    "# Challenge 3"
   ]
  },
  {
   "cell_type": "code",
   "execution_count": 139,
   "id": "288b5035",
   "metadata": {},
   "outputs": [
    {
     "data": {
      "text/plain": [
       "'scavenger'"
      ]
     },
     "execution_count": 139,
     "metadata": {},
     "output_type": "execute_result"
    }
   ],
   "source": [
    "# Obtenemos la info del nuevo repo\n",
    "repo = github.get_repo('ironhack-datalabs/scavenger')\n",
    "repo.name"
   ]
  },
  {
   "cell_type": "code",
   "execution_count": 140,
   "id": "749d20ac",
   "metadata": {},
   "outputs": [],
   "source": [
    "# Con el comando get_contents obtenemos el contenido de la carpeta principal del repositorio\n",
    "content = repo.get_contents('')"
   ]
  },
  {
   "cell_type": "code",
   "execution_count": 141,
   "id": "09f19d77",
   "metadata": {},
   "outputs": [
    {
     "data": {
      "text/plain": [
       "[ContentFile(path=\".gitignore\"),\n",
       " ContentFile(path=\"15024\"),\n",
       " ContentFile(path=\"15534\"),\n",
       " ContentFile(path=\"17020\"),\n",
       " ContentFile(path=\"30351\"),\n",
       " ContentFile(path=\"40303\"),\n",
       " ContentFile(path=\"44639\"),\n",
       " ContentFile(path=\"45525\"),\n",
       " ContentFile(path=\"47222\"),\n",
       " ContentFile(path=\"47830\"),\n",
       " ContentFile(path=\"49418\"),\n",
       " ContentFile(path=\"50896\"),\n",
       " ContentFile(path=\"55417\"),\n",
       " ContentFile(path=\"55685\"),\n",
       " ContentFile(path=\"60224\"),\n",
       " ContentFile(path=\"64880\"),\n",
       " ContentFile(path=\"66032\"),\n",
       " ContentFile(path=\"68848\"),\n",
       " ContentFile(path=\"70751\"),\n",
       " ContentFile(path=\"70985\"),\n",
       " ContentFile(path=\"88596\"),\n",
       " ContentFile(path=\"89046\"),\n",
       " ContentFile(path=\"89338\"),\n",
       " ContentFile(path=\"91701\"),\n",
       " ContentFile(path=\"97881\"),\n",
       " ContentFile(path=\"98750\")]"
      ]
     },
     "execution_count": 141,
     "metadata": {},
     "output_type": "execute_result"
    }
   ],
   "source": [
    "content"
   ]
  },
  {
   "cell_type": "code",
   "execution_count": 142,
   "id": "f6c750e7",
   "metadata": {},
   "outputs": [],
   "source": [
    "joke_list = []\n",
    "\n",
    "for i in content:\n",
    "    if not i.path.endswith('.gitignore'): # Si el archivo tiene esta terminacion lo ignoramos\n",
    "        folder = repo.get_contents(i.path) # Estramos a cada una de las carpetas que se encuentran en el repositorio\n",
    "        for fol in folder:\n",
    "            if fol.path.endswith('.scavengerhunt'): # Si el archivo tiene esta terminacion lo tomamos\n",
    "                joke_list.append(fol)"
   ]
  },
  {
   "cell_type": "code",
   "execution_count": 143,
   "id": "43fbe73e",
   "metadata": {},
   "outputs": [
    {
     "data": {
      "text/plain": [
       "[ContentFile(path=\"98750/.0001.scavengerhunt\"),\n",
       " ContentFile(path=\"88596/.0002.scavengerhunt\"),\n",
       " ContentFile(path=\"60224/.0003.scavengerhunt\"),\n",
       " ContentFile(path=\"68848/.0004.scavengerhunt\"),\n",
       " ContentFile(path=\"44639/.0005.scavengerhunt\"),\n",
       " ContentFile(path=\"15024/.0006.scavengerhunt\"),\n",
       " ContentFile(path=\"17020/.0007.scavengerhunt\"),\n",
       " ContentFile(path=\"15534/.0008.scavengerhunt\"),\n",
       " ContentFile(path=\"97881/.0009.scavengerhunt\"),\n",
       " ContentFile(path=\"47830/.0010.scavengerhunt\"),\n",
       " ContentFile(path=\"50896/.0011.scavengerhunt\"),\n",
       " ContentFile(path=\"15534/.0012.scavengerhunt\"),\n",
       " ContentFile(path=\"89338/.0013.scavengerhunt\"),\n",
       " ContentFile(path=\"49418/.0014.scavengerhunt\"),\n",
       " ContentFile(path=\"91701/.0015.scavengerhunt\"),\n",
       " ContentFile(path=\"47222/.0016.scavengerhunt\"),\n",
       " ContentFile(path=\"70985/.0017.scavengerhunt\"),\n",
       " ContentFile(path=\"45525/.0018.scavengerhunt\"),\n",
       " ContentFile(path=\"70751/.0019.scavengerhunt\"),\n",
       " ContentFile(path=\"55685/.0020.scavengerhunt\"),\n",
       " ContentFile(path=\"30351/.0021.scavengerhunt\"),\n",
       " ContentFile(path=\"40303/.0022.scavengerhunt\"),\n",
       " ContentFile(path=\"55417/.0023.scavengerhunt\"),\n",
       " ContentFile(path=\"47222/.0024.scavengerhunt\")]"
      ]
     },
     "execution_count": 143,
     "metadata": {},
     "output_type": "execute_result"
    }
   ],
   "source": [
    "# Ordemas los archivos de forma ascendente\n",
    "joke_list_sorted = []\n",
    "\n",
    "for i in range(len(joke_list)):\n",
    "    for joke in joke_list:\n",
    "        if i+1 == int(joke.path[7:11]): # [7:11] nos indica el numero del archivo\n",
    "            joke_list_sorted.append(joke)\n",
    "            \n",
    "joke_list_sorted"
   ]
  },
  {
   "cell_type": "code",
   "execution_count": 144,
   "id": "dcf5c08c",
   "metadata": {},
   "outputs": [
    {
     "data": {
      "text/plain": [
       "'In data science, 80 percent of time spent is preparing data, 20 percent of time is spent complaining about the need to prepare data. '"
      ]
     },
     "execution_count": 144,
     "metadata": {},
     "output_type": "execute_result"
    }
   ],
   "source": [
    "# Unimos todas las palabras de cada archivo en un solo string\n",
    "final_joke = str()\n",
    "for i in joke_list_sorted:\n",
    "    final_joke += i.decoded_content.decode(\"utf-8\").strip() + ' '\n",
    "    \n",
    "final_joke # Mostramos la broma escondida en los archivos"
   ]
  },
  {
   "cell_type": "code",
   "execution_count": null,
   "id": "79597c3d",
   "metadata": {},
   "outputs": [],
   "source": []
  }
 ],
 "metadata": {
  "kernelspec": {
   "display_name": "Python 3",
   "language": "python",
   "name": "python3"
  },
  "language_info": {
   "codemirror_mode": {
    "name": "ipython",
    "version": 3
   },
   "file_extension": ".py",
   "mimetype": "text/x-python",
   "name": "python",
   "nbconvert_exporter": "python",
   "pygments_lexer": "ipython3",
   "version": "3.8.8"
  }
 },
 "nbformat": 4,
 "nbformat_minor": 5
}
