{
 "cells": [
  {
   "cell_type": "code",
   "execution_count": 90,
   "id": "71ce9353",
   "metadata": {},
   "outputs": [],
   "source": [
    "from github import Github\n",
    "import time\n",
    "from datetime import datetime, timedelta\n",
    "from operator import "
   ]
  },
  {
   "cell_type": "markdown",
   "id": "c4c759dd",
   "metadata": {},
   "source": [
    "## challenge 1"
   ]
  },
  {
   "cell_type": "code",
   "execution_count": 2,
   "id": "a7e1f466",
   "metadata": {},
   "outputs": [],
   "source": [
    "token = ''"
   ]
  },
  {
   "cell_type": "code",
   "execution_count": 4,
   "id": "914753d5",
   "metadata": {},
   "outputs": [],
   "source": [
    "github = Github(token)"
   ]
  },
  {
   "cell_type": "code",
   "execution_count": 45,
   "id": "283a8f84",
   "metadata": {},
   "outputs": [
    {
     "data": {
      "text/plain": [
       "'mad-oct-2018'"
      ]
     },
     "execution_count": 45,
     "metadata": {},
     "output_type": "execute_result"
    }
   ],
   "source": [
    "repo = github.get_repo('ironhack-datalabs/madrid-oct-2018')\n",
    "repo.name"
   ]
  },
  {
   "cell_type": "code",
   "execution_count": 46,
   "id": "3e14a41e",
   "metadata": {},
   "outputs": [
    {
     "data": {
      "text/plain": [
       "16"
      ]
     },
     "execution_count": 46,
     "metadata": {},
     "output_type": "execute_result"
    }
   ],
   "source": [
    "repo.forks_count"
   ]
  },
  {
   "cell_type": "code",
   "execution_count": 47,
   "id": "c2388a14",
   "metadata": {},
   "outputs": [
    {
     "name": "stdout",
     "output_type": "stream",
     "text": [
      "[Repository(full_name=\"luisbang/mad-oct-2018\"), Repository(full_name=\"Forastierii/mad-oct-2018\"), Repository(full_name=\"ToniPons97/mad-oct-2018\"), Repository(full_name=\"rsennes/mad-oct-2018\"), Repository(full_name=\"gggfaria/mad-oct-2018\"), Repository(full_name=\"nancyulric/mad-oct-2018\"), Repository(full_name=\"lmartinezruizit/datamad0119\"), Repository(full_name=\"eye8/madrid-oct-2018\"), Repository(full_name=\"ArieHassan/madrid-oct-2018\"), Repository(full_name=\"cmvalma/Ironhack-oct-2018\"), Repository(full_name=\"criraca/madrid-oct-2018\"), Repository(full_name=\"AlbertoCastellanos/madrid-oct-2018\"), Repository(full_name=\"elenajpp/madrid-oct-2018\"), Repository(full_name=\"miriammg/madrid-oct-2018\"), Repository(full_name=\"albertogcmr/madrid-oct-2018\"), Repository(full_name=\"marisfont/madrid-oct-2018\")]\n"
     ]
    }
   ],
   "source": [
    "t = repo.get_forks()\n",
    "print(list(t))"
   ]
  },
  {
   "cell_type": "markdown",
   "id": "e765780e",
   "metadata": {},
   "source": [
    "## challenge 2"
   ]
  },
  {
   "cell_type": "code",
   "execution_count": 55,
   "id": "0705a756",
   "metadata": {},
   "outputs": [
    {
     "data": {
      "text/plain": [
       "{'HTML', 'Jupyter Notebook', 'Python', 'Shell'}"
      ]
     },
     "execution_count": 55,
     "metadata": {},
     "output_type": "execute_result"
    }
   ],
   "source": [
    "languages = []\n",
    "for a in t:\n",
    "    languages.append(list(a.get_languages().keys()))\n",
    "languages_flat = [a for x in languages for a in x]\n",
    "set(languages_flat)"
   ]
  },
  {
   "cell_type": "code",
   "execution_count": 94,
   "id": "6584e780",
   "metadata": {},
   "outputs": [
    {
     "name": "stdout",
     "output_type": "stream",
     "text": [
      "323\n"
     ]
    }
   ],
   "source": [
    "c = list(repo.get_commits(since=datetime.utcnow()-timedelta(days = 1500)))\n",
    "print(len(c))\n",
    "#a = repo.get_commit(c[0])\n",
    "#a"
   ]
  },
  {
   "cell_type": "markdown",
   "id": "45cce8d4",
   "metadata": {},
   "source": [
    "## challenge 3"
   ]
  },
  {
   "cell_type": "code",
   "execution_count": 101,
   "id": "9c752186",
   "metadata": {},
   "outputs": [
    {
     "data": {
      "text/plain": [
       "'scavenger'"
      ]
     },
     "execution_count": 101,
     "metadata": {},
     "output_type": "execute_result"
    }
   ],
   "source": [
    "repo = github.get_repo('ironhack-datalabs/scavenger')\n",
    "repo.name"
   ]
  },
  {
   "cell_type": "code",
   "execution_count": 97,
   "id": "55d56097",
   "metadata": {},
   "outputs": [],
   "source": [
    "contents = repo.get_contents('')"
   ]
  },
  {
   "cell_type": "code",
   "execution_count": 109,
   "id": "38de7350",
   "metadata": {},
   "outputs": [],
   "source": [
    "res = []\n",
    "def recursive_search(path=''):\n",
    "    for content in repo.get_contents(path):\n",
    "        if content.type == 'dir':\n",
    "            recursive_search(content.path)\n",
    "        elif content.type == 'file' and content.name.endswith('.scavengerhunt'):\n",
    "            res.append((content.path,int(content.name.split('.')[1])))\n",
    "    return res\n",
    "            \n",
    "l = recursive_search()\n"
   ]
  },
  {
   "cell_type": "code",
   "execution_count": 119,
   "id": "a8ea8f67",
   "metadata": {
    "collapsed": true
   },
   "outputs": [
    {
     "data": {
      "text/plain": [
       "[('15024/.0006.scavengerhunt', 6),\n",
       " ('15534/.0008.scavengerhunt', 8),\n",
       " ('15534/.0012.scavengerhunt', 12),\n",
       " ('17020/.0007.scavengerhunt', 7),\n",
       " ('30351/.0021.scavengerhunt', 21),\n",
       " ('40303/.0022.scavengerhunt', 22),\n",
       " ('44639/.0005.scavengerhunt', 5),\n",
       " ('45525/.0018.scavengerhunt', 18),\n",
       " ('47222/.0016.scavengerhunt', 16),\n",
       " ('47222/.0024.scavengerhunt', 24),\n",
       " ('47830/.0010.scavengerhunt', 10),\n",
       " ('49418/.0014.scavengerhunt', 14),\n",
       " ('50896/.0011.scavengerhunt', 11),\n",
       " ('55417/.0023.scavengerhunt', 23),\n",
       " ('55685/.0020.scavengerhunt', 20),\n",
       " ('60224/.0003.scavengerhunt', 3),\n",
       " ('68848/.0004.scavengerhunt', 4),\n",
       " ('70751/.0019.scavengerhunt', 19),\n",
       " ('70985/.0017.scavengerhunt', 17),\n",
       " ('88596/.0002.scavengerhunt', 2),\n",
       " ('89338/.0013.scavengerhunt', 13),\n",
       " ('91701/.0015.scavengerhunt', 15),\n",
       " ('97881/.0009.scavengerhunt', 9),\n",
       " ('98750/.0001.scavengerhunt', 1)]"
      ]
     },
     "execution_count": 119,
     "metadata": {},
     "output_type": "execute_result"
    }
   ],
   "source": [
    "l_sorted = sorted(l, key=lambda tup: tup[1])\n",
    "l"
   ]
  },
  {
   "cell_type": "code",
   "execution_count": 127,
   "id": "620c0c98",
   "metadata": {},
   "outputs": [],
   "source": [
    "l_list = [a[0] for a in l_sorted]"
   ]
  },
  {
   "cell_type": "code",
   "execution_count": 132,
   "id": "c465fbb1",
   "metadata": {
    "collapsed": true
   },
   "outputs": [
    {
     "data": {
      "text/plain": [
       "['In\\n',\n",
       " 'data\\n',\n",
       " 'science,\\n',\n",
       " '80\\n',\n",
       " 'percent\\n',\n",
       " 'of\\n',\n",
       " 'time\\n',\n",
       " 'spent\\n',\n",
       " 'is\\n',\n",
       " 'preparing\\n',\n",
       " 'data,\\n',\n",
       " '20\\n',\n",
       " 'percent\\n',\n",
       " 'of\\n',\n",
       " 'time\\n',\n",
       " 'is\\n',\n",
       " 'spent\\n',\n",
       " 'complaining\\n',\n",
       " 'about\\n',\n",
       " 'the\\n',\n",
       " 'need\\n',\n",
       " 'to\\n',\n",
       " 'prepare\\n',\n",
       " 'data.\\n']"
      ]
     },
     "execution_count": 132,
     "metadata": {},
     "output_type": "execute_result"
    }
   ],
   "source": [
    "code = []\n",
    "for p in l_list:\n",
    "    code.append(repo.get_contents(p).decoded_content.decode())\n",
    "code"
   ]
  },
  {
   "cell_type": "code",
   "execution_count": 136,
   "id": "3b6ada27",
   "metadata": {},
   "outputs": [
    {
     "data": {
      "text/plain": [
       "'In data science, 80 percent of time spent is preparing data, 20 percent of time is spent complaining about the need to prepare data.'"
      ]
     },
     "execution_count": 136,
     "metadata": {},
     "output_type": "execute_result"
    }
   ],
   "source": [
    "' '.join(code).replace('\\n','')"
   ]
  },
  {
   "cell_type": "code",
   "execution_count": null,
   "id": "be786b97",
   "metadata": {},
   "outputs": [],
   "source": []
  }
 ],
 "metadata": {
  "kernelspec": {
   "display_name": "Python 3 (ipykernel)",
   "language": "python",
   "name": "python3"
  },
  "language_info": {
   "codemirror_mode": {
    "name": "ipython",
    "version": 3
   },
   "file_extension": ".py",
   "mimetype": "text/x-python",
   "name": "python",
   "nbconvert_exporter": "python",
   "pygments_lexer": "ipython3",
   "version": "3.9.6"
  }
 },
 "nbformat": 4,
 "nbformat_minor": 5
}
