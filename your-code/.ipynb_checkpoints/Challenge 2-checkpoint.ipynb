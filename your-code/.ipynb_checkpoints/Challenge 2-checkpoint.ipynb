{
 "cells": [
  {
   "cell_type": "code",
   "execution_count": 1,
   "id": "540c85cc",
   "metadata": {},
   "outputs": [
    {
     "data": {
      "text/plain": [
       "Repository(full_name=\"ironhack-datalabs/mad-oct-2018\")"
      ]
     },
     "execution_count": 1,
     "metadata": {},
     "output_type": "execute_result"
    }
   ],
   "source": [
    "import time\n",
    "from datetime import datetime\n",
    "from github import Github\n",
    "\n",
    "token = \"\"\n",
    "github = Github(token)\n",
    "user = github.get_user()\n",
    "lab = \"ironhack-datalabs/madrid-oct-2018\"\n",
    "repo = github.get_repo(lab)\n",
    "repo"
   ]
  },
  {
   "cell_type": "code",
   "execution_count": 2,
   "id": "91a3ffcc",
   "metadata": {},
   "outputs": [
    {
     "data": {
      "text/plain": [
       "35"
      ]
     },
     "execution_count": 2,
     "metadata": {},
     "output_type": "execute_result"
    }
   ],
   "source": [
    "commits = list(repo.get_commits(since=datetime(2019,1,1)))\n",
    "len(commits)"
   ]
  }
 ],
 "metadata": {
  "kernelspec": {
   "display_name": "Python 3 (ipykernel)",
   "language": "python",
   "name": "python3"
  },
  "language_info": {
   "codemirror_mode": {
    "name": "ipython",
    "version": 3
   },
   "file_extension": ".py",
   "mimetype": "text/x-python",
   "name": "python",
   "nbconvert_exporter": "python",
   "pygments_lexer": "ipython3",
   "version": "3.10.3"
  }
 },
 "nbformat": 4,
 "nbformat_minor": 5
}
