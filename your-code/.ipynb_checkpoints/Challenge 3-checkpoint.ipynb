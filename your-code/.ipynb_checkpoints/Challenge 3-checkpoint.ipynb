{
 "cells": [
  {
   "cell_type": "code",
   "execution_count": 1,
   "id": "a8f515c4",
   "metadata": {},
   "outputs": [
    {
     "data": {
      "text/plain": [
       "Repository(full_name=\"ironhack-datalabs/scavenger\")"
      ]
     },
     "execution_count": 1,
     "metadata": {},
     "output_type": "execute_result"
    }
   ],
   "source": [
    "import time\n",
    "from datetime import datetime\n",
    "from github import Github\n",
    "\n",
    "token = \"\"\n",
    "github = Github(token)\n",
    "user = github.get_user()\n",
    "lab = 'ironhack-datalabs/scavenger'\n",
    "repo = github.get_repo(lab)\n",
    "repo"
   ]
  },
  {
   "cell_type": "code",
   "execution_count": 2,
   "id": "6e6b51b5",
   "metadata": {
    "scrolled": true
   },
   "outputs": [
    {
     "data": {
      "text/plain": [
       "[[ContentFile(path=\"15024/.0006.scavengerhunt\"),\n",
       "  ContentFile(path=\"15024/40\"),\n",
       "  ContentFile(path=\"15024/74\"),\n",
       "  ContentFile(path=\"15024/99\")],\n",
       " [ContentFile(path=\"15534/.0008.scavengerhunt\"),\n",
       "  ContentFile(path=\"15534/.0012.scavengerhunt\"),\n",
       "  ContentFile(path=\"15534/2\"),\n",
       "  ContentFile(path=\"15534/98\")],\n",
       " [ContentFile(path=\"17020/.0007.scavengerhunt\"),\n",
       "  ContentFile(path=\"17020/46\"),\n",
       "  ContentFile(path=\"17020/97\")],\n",
       " [ContentFile(path=\"30351/.0021.scavengerhunt\"),\n",
       "  ContentFile(path=\"30351/22\"),\n",
       "  ContentFile(path=\"30351/96\")],\n",
       " [ContentFile(path=\"40303/.0022.scavengerhunt\"),\n",
       "  ContentFile(path=\"40303/51\"),\n",
       "  ContentFile(path=\"40303/65\")],\n",
       " [ContentFile(path=\"44639/.0005.scavengerhunt\"),\n",
       "  ContentFile(path=\"44639/76\"),\n",
       "  ContentFile(path=\"44639/91\")],\n",
       " [ContentFile(path=\"45525/.0018.scavengerhunt\"),\n",
       "  ContentFile(path=\"45525/67\"),\n",
       "  ContentFile(path=\"45525/90\")],\n",
       " [ContentFile(path=\"47222/.0016.scavengerhunt\"),\n",
       "  ContentFile(path=\"47222/.0024.scavengerhunt\"),\n",
       "  ContentFile(path=\"47222/7\"),\n",
       "  ContentFile(path=\"47222/89\")],\n",
       " [ContentFile(path=\"47830/.0010.scavengerhunt\"),\n",
       "  ContentFile(path=\"47830/66\"),\n",
       "  ContentFile(path=\"47830/85\")],\n",
       " [ContentFile(path=\"49418/.0014.scavengerhunt\"),\n",
       "  ContentFile(path=\"49418/30\"),\n",
       "  ContentFile(path=\"49418/38\"),\n",
       "  ContentFile(path=\"49418/84\")],\n",
       " [ContentFile(path=\"50896/.0011.scavengerhunt\"),\n",
       "  ContentFile(path=\"50896/4\"),\n",
       "  ContentFile(path=\"50896/83\")],\n",
       " [ContentFile(path=\"55417/.0023.scavengerhunt\"),\n",
       "  ContentFile(path=\"55417/14\"),\n",
       "  ContentFile(path=\"55417/82\")],\n",
       " [ContentFile(path=\"55685/.0020.scavengerhunt\"),\n",
       "  ContentFile(path=\"55685/5\"),\n",
       "  ContentFile(path=\"55685/81\")],\n",
       " [ContentFile(path=\"60224/.0003.scavengerhunt\"),\n",
       "  ContentFile(path=\"60224/1\"),\n",
       "  ContentFile(path=\"60224/80\")],\n",
       " [ContentFile(path=\"64880/3\"),\n",
       "  ContentFile(path=\"64880/57\"),\n",
       "  ContentFile(path=\"64880/79\")],\n",
       " [ContentFile(path=\"66032/28\"),\n",
       "  ContentFile(path=\"66032/47\"),\n",
       "  ContentFile(path=\"66032/77\")],\n",
       " [ContentFile(path=\"68848/.0004.scavengerhunt\"),\n",
       "  ContentFile(path=\"68848/16\"),\n",
       "  ContentFile(path=\"68848/75\")],\n",
       " [ContentFile(path=\"70751/.0019.scavengerhunt\"),\n",
       "  ContentFile(path=\"70751/18\"),\n",
       "  ContentFile(path=\"70751/44\"),\n",
       "  ContentFile(path=\"70751/68\")],\n",
       " [ContentFile(path=\"70985/.0017.scavengerhunt\"),\n",
       "  ContentFile(path=\"70985/11\"),\n",
       "  ContentFile(path=\"70985/59\")],\n",
       " [ContentFile(path=\"88596/.0002.scavengerhunt\"),\n",
       "  ContentFile(path=\"88596/12\"),\n",
       "  ContentFile(path=\"88596/32\"),\n",
       "  ContentFile(path=\"88596/55\")],\n",
       " [ContentFile(path=\"89046/64\"),\n",
       "  ContentFile(path=\"89046/70\"),\n",
       "  ContentFile(path=\"89046/73\")],\n",
       " [ContentFile(path=\"89338/.0013.scavengerhunt\"),\n",
       "  ContentFile(path=\"89338/35\"),\n",
       "  ContentFile(path=\"89338/43\"),\n",
       "  ContentFile(path=\"89338/8\")],\n",
       " [ContentFile(path=\"91701/.0015.scavengerhunt\"),\n",
       "  ContentFile(path=\"91701/33\"),\n",
       "  ContentFile(path=\"91701/39\")],\n",
       " [ContentFile(path=\"97881/.0009.scavengerhunt\"),\n",
       "  ContentFile(path=\"97881/26\"),\n",
       "  ContentFile(path=\"97881/36\"),\n",
       "  ContentFile(path=\"97881/71\")],\n",
       " [ContentFile(path=\"98750/.0001.scavengerhunt\"),\n",
       "  ContentFile(path=\"98750/20\"),\n",
       "  ContentFile(path=\"98750/62\")]]"
      ]
     },
     "execution_count": 2,
     "metadata": {},
     "output_type": "execute_result"
    }
   ],
   "source": [
    "contents = repo.get_contents(\"\")\n",
    "dir_levels = [repo.get_contents(content.path) for content in contents if not content.path.endswith('ore')]\n",
    "dir_levels"
   ]
  },
  {
   "cell_type": "code",
   "execution_count": 3,
   "id": "5117400f",
   "metadata": {
    "scrolled": true
   },
   "outputs": [
    {
     "data": {
      "text/plain": [
       "['15024/.0006.scavengerhunt',\n",
       " '15534/.0008.scavengerhunt',\n",
       " '15534/.0012.scavengerhunt',\n",
       " '17020/.0007.scavengerhunt',\n",
       " '30351/.0021.scavengerhunt',\n",
       " '40303/.0022.scavengerhunt',\n",
       " '44639/.0005.scavengerhunt',\n",
       " '45525/.0018.scavengerhunt',\n",
       " '47222/.0016.scavengerhunt',\n",
       " '47222/.0024.scavengerhunt',\n",
       " '47830/.0010.scavengerhunt',\n",
       " '49418/.0014.scavengerhunt',\n",
       " '50896/.0011.scavengerhunt',\n",
       " '55417/.0023.scavengerhunt',\n",
       " '55685/.0020.scavengerhunt',\n",
       " '60224/.0003.scavengerhunt',\n",
       " '68848/.0004.scavengerhunt',\n",
       " '70751/.0019.scavengerhunt',\n",
       " '70985/.0017.scavengerhunt',\n",
       " '88596/.0002.scavengerhunt',\n",
       " '89338/.0013.scavengerhunt',\n",
       " '91701/.0015.scavengerhunt',\n",
       " '97881/.0009.scavengerhunt',\n",
       " '98750/.0001.scavengerhunt']"
      ]
     },
     "execution_count": 3,
     "metadata": {},
     "output_type": "execute_result"
    }
   ],
   "source": [
    "files_level = [file.path for content in dir_levels for file in content if file.path.endswith('unt')]\n",
    "files_level"
   ]
  },
  {
   "cell_type": "code",
   "execution_count": 4,
   "id": "78db70c6",
   "metadata": {},
   "outputs": [
    {
     "name": "stdout",
     "output_type": "stream",
     "text": [
      ".0006.scavengerhunt\n"
     ]
    }
   ],
   "source": [
    "print(files_level[0][-19:]) # se pueden ordenar los archivos con el numero después de \"/\""
   ]
  },
  {
   "cell_type": "code",
   "execution_count": 5,
   "id": "bd8035f2",
   "metadata": {
    "scrolled": true
   },
   "outputs": [
    {
     "data": {
      "text/plain": [
       "['98750/.0001.scavengerhunt',\n",
       " '88596/.0002.scavengerhunt',\n",
       " '60224/.0003.scavengerhunt',\n",
       " '68848/.0004.scavengerhunt',\n",
       " '44639/.0005.scavengerhunt',\n",
       " '15024/.0006.scavengerhunt',\n",
       " '17020/.0007.scavengerhunt',\n",
       " '15534/.0008.scavengerhunt',\n",
       " '97881/.0009.scavengerhunt',\n",
       " '47830/.0010.scavengerhunt',\n",
       " '50896/.0011.scavengerhunt',\n",
       " '15534/.0012.scavengerhunt',\n",
       " '89338/.0013.scavengerhunt',\n",
       " '49418/.0014.scavengerhunt',\n",
       " '91701/.0015.scavengerhunt',\n",
       " '47222/.0016.scavengerhunt',\n",
       " '70985/.0017.scavengerhunt',\n",
       " '45525/.0018.scavengerhunt',\n",
       " '70751/.0019.scavengerhunt',\n",
       " '55685/.0020.scavengerhunt',\n",
       " '30351/.0021.scavengerhunt',\n",
       " '40303/.0022.scavengerhunt',\n",
       " '55417/.0023.scavengerhunt',\n",
       " '47222/.0024.scavengerhunt']"
      ]
     },
     "execution_count": 5,
     "metadata": {},
     "output_type": "execute_result"
    }
   ],
   "source": [
    "def last_4characters(x):\n",
    "    return(x[-19:])\n",
    "\n",
    "sorted_files = sorted(files_level, key= last_4characters)\n",
    "sorted_files"
   ]
  },
  {
   "cell_type": "code",
   "execution_count": 7,
   "id": "cd7463c8",
   "metadata": {},
   "outputs": [
    {
     "data": {
      "text/plain": [
       "['In',\n",
       " 'data',\n",
       " 'science,',\n",
       " '80',\n",
       " 'percent',\n",
       " 'of',\n",
       " 'time',\n",
       " 'spent',\n",
       " 'is',\n",
       " 'preparing',\n",
       " 'data,',\n",
       " '20',\n",
       " 'percent',\n",
       " 'of',\n",
       " 'time',\n",
       " 'is',\n",
       " 'spent',\n",
       " 'complaining',\n",
       " 'about',\n",
       " 'the',\n",
       " 'need',\n",
       " 'to',\n",
       " 'prepare',\n",
       " 'data.']"
      ]
     },
     "execution_count": 7,
     "metadata": {},
     "output_type": "execute_result"
    }
   ],
   "source": [
    "joke_message = [repo.get_contents(joke).decoded_content.strip().decode() for joke in sorted_files]\n",
    "joke_message"
   ]
  },
  {
   "cell_type": "code",
   "execution_count": 8,
   "id": "d0af9816",
   "metadata": {},
   "outputs": [
    {
     "data": {
      "text/plain": [
       "'In data science, 80 percent of time spent is preparing data, 20 percent of time is spent complaining about the need to prepare data.'"
      ]
     },
     "execution_count": 8,
     "metadata": {},
     "output_type": "execute_result"
    }
   ],
   "source": [
    "\" \".join(joke_message)"
   ]
  }
 ],
 "metadata": {
  "kernelspec": {
   "display_name": "Python 3 (ipykernel)",
   "language": "python",
   "name": "python3"
  },
  "language_info": {
   "codemirror_mode": {
    "name": "ipython",
    "version": 3
   },
   "file_extension": ".py",
   "mimetype": "text/x-python",
   "name": "python",
   "nbconvert_exporter": "python",
   "pygments_lexer": "ipython3",
   "version": "3.10.3"
  }
 },
 "nbformat": 4,
 "nbformat_minor": 5
}
