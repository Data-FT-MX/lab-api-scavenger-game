{
 "cells": [
  {
   "cell_type": "markdown",
   "id": "7a403fb1",
   "metadata": {},
   "source": [
    "### CHALLENGE 1"
   ]
  },
  {
   "cell_type": "code",
   "execution_count": 1,
   "id": "fae775f9",
   "metadata": {},
   "outputs": [],
   "source": [
    "import re\n",
    "import time\n",
    "from github import Github\n",
    "from datetime import datetime"
   ]
  },
  {
   "cell_type": "code",
   "execution_count": 2,
   "id": "566c2013",
   "metadata": {},
   "outputs": [],
   "source": [
    "token = #token Github"
   ]
  },
  {
   "cell_type": "code",
   "execution_count": 3,
   "id": "d369740a",
   "metadata": {},
   "outputs": [],
   "source": [
    "github = Github(token)"
   ]
  },
  {
   "cell_type": "code",
   "execution_count": 4,
   "id": "19fe7a81",
   "metadata": {},
   "outputs": [
    {
     "data": {
      "text/plain": [
       "AuthenticatedUser(login=None)"
      ]
     },
     "execution_count": 4,
     "metadata": {},
     "output_type": "execute_result"
    }
   ],
   "source": [
    "user = github.get_user()\n",
    "user"
   ]
  },
  {
   "cell_type": "code",
   "execution_count": 5,
   "id": "6483488e",
   "metadata": {},
   "outputs": [
    {
     "data": {
      "text/plain": [
       "'mad-oct-2018'"
      ]
     },
     "execution_count": 5,
     "metadata": {},
     "output_type": "execute_result"
    }
   ],
   "source": [
    "repo = github.get_repo('ironhack-datalabs/madrid-oct-2018')\n",
    "repo.name"
   ]
  },
  {
   "cell_type": "code",
   "execution_count": 6,
   "id": "08d5805a",
   "metadata": {},
   "outputs": [
    {
     "data": {
      "text/plain": [
       "18"
      ]
     },
     "execution_count": 6,
     "metadata": {},
     "output_type": "execute_result"
    }
   ],
   "source": [
    "repo.forks"
   ]
  },
  {
   "cell_type": "code",
   "execution_count": 7,
   "id": "14c62fa2",
   "metadata": {},
   "outputs": [
    {
     "data": {
      "text/plain": [
       "'https://api.github.com/repos/ironhack-datalabs/mad-oct-2018/forks'"
      ]
     },
     "execution_count": 7,
     "metadata": {},
     "output_type": "execute_result"
    }
   ],
   "source": [
    "repo.forks_url"
   ]
  },
  {
   "cell_type": "code",
   "execution_count": 8,
   "id": "777b060a",
   "metadata": {},
   "outputs": [
    {
     "data": {
      "text/plain": [
       "<github.PaginatedList.PaginatedList at 0x10f21c5e0>"
      ]
     },
     "execution_count": 8,
     "metadata": {},
     "output_type": "execute_result"
    }
   ],
   "source": [
    "forks = repo.get_forks() \n",
    "forks"
   ]
  },
  {
   "cell_type": "code",
   "execution_count": 9,
   "id": "922964d9",
   "metadata": {},
   "outputs": [
    {
     "data": {
      "text/plain": [
       "[Repository(full_name=\"TheIronhidex/mad-oct-2018\"),\n",
       " Repository(full_name=\"techols/mad-oct-2018\"),\n",
       " Repository(full_name=\"luisbang/mad-oct-2018\"),\n",
       " Repository(full_name=\"Forastierii/mad-oct-2018\"),\n",
       " Repository(full_name=\"ToniPons97/mad-oct-2018\"),\n",
       " Repository(full_name=\"rsennes/mad-oct-2018\"),\n",
       " Repository(full_name=\"gggfaria/mad-oct-2018\"),\n",
       " Repository(full_name=\"nancyulric/mad-oct-2018\"),\n",
       " Repository(full_name=\"lmartinezruizit/datamad0119\"),\n",
       " Repository(full_name=\"eye8/madrid-oct-2018\"),\n",
       " Repository(full_name=\"ArieHassan/madrid-oct-2018\"),\n",
       " Repository(full_name=\"cmvalma/Ironhack-oct-2018\"),\n",
       " Repository(full_name=\"criraca/madrid-oct-2018\"),\n",
       " Repository(full_name=\"AlbertoCastellanos/madrid-oct-2018\"),\n",
       " Repository(full_name=\"elenajpp/madrid-oct-2018\"),\n",
       " Repository(full_name=\"miriammg/madrid-oct-2018\"),\n",
       " Repository(full_name=\"albertogcmr/madrid-oct-2018\"),\n",
       " Repository(full_name=\"marisfont/madrid-oct-2018\")]"
      ]
     },
     "execution_count": 9,
     "metadata": {},
     "output_type": "execute_result"
    }
   ],
   "source": [
    "list_forks = list(forks)\n",
    "list_forks"
   ]
  },
  {
   "cell_type": "code",
   "execution_count": 10,
   "id": "b0025755",
   "metadata": {},
   "outputs": [
    {
     "name": "stdout",
     "output_type": "stream",
     "text": [
      "{'Jupyter Notebook': 1134241, 'HTML': 498316, 'Python': 8691}\n",
      "{'Jupyter Notebook': 1134241, 'HTML': 498316, 'Python': 8691}\n",
      "{'Jupyter Notebook': 1134241, 'HTML': 498316, 'Python': 8691}\n",
      "{'Jupyter Notebook': 1134241, 'HTML': 498316, 'Python': 8691}\n",
      "{'Jupyter Notebook': 1134241, 'HTML': 498316, 'Python': 8691}\n",
      "{'Jupyter Notebook': 1134241, 'HTML': 498316, 'Python': 8691}\n",
      "{'Jupyter Notebook': 1134241, 'HTML': 498316, 'Python': 8691}\n",
      "{'Jupyter Notebook': 1134241, 'HTML': 498316, 'Python': 8691}\n",
      "{'Jupyter Notebook': 1134241, 'HTML': 498316, 'Python': 8691}\n",
      "{'Jupyter Notebook': 1929156, 'HTML': 498316, 'Python': 25471}\n",
      "{'HTML': 498316, 'Jupyter Notebook': 84452, 'Python': 16545}\n",
      "{'Jupyter Notebook': 2227047, 'HTML': 498316, 'Python': 25471, 'Shell': 1051}\n",
      "{'Jupyter Notebook': 2258595, 'HTML': 498316, 'Python': 27054}\n",
      "{'Jupyter Notebook': 2121446, 'HTML': 498316, 'Python': 30276}\n",
      "{'Jupyter Notebook': 2342270, 'HTML': 498316, 'Python': 30630}\n",
      "{'Jupyter Notebook': 1977603, 'HTML': 498316, 'Python': 32084}\n",
      "{'Jupyter Notebook': 2030706, 'HTML': 498316, 'Python': 26825}\n",
      "{'Jupyter Notebook': 1928145, 'HTML': 498316, 'Python': 27910}\n"
     ]
    }
   ],
   "source": [
    "for fork in list_forks:\n",
    "    print(fork.get_languages())"
   ]
  },
  {
   "cell_type": "markdown",
   "id": "e1a357d3",
   "metadata": {},
   "source": [
    "### CHALLENGE 2"
   ]
  },
  {
   "cell_type": "code",
   "execution_count": 11,
   "id": "25e6fd02",
   "metadata": {},
   "outputs": [
    {
     "name": "stdout",
     "output_type": "stream",
     "text": [
      "[Commit(sha=\"1638e5506e6947b77bfe78761d345476ae80d017\"), Commit(sha=\"f332b5e6fcea965dc80f62220d7ee1457b04b90d\"), Commit(sha=\"4c048c3efc18cf9d50e34c76919c8049ee7f2dbd\"), Commit(sha=\"41e09d4fbf64bacb2fdfe7d90cdd0cd71bd24310\"), Commit(sha=\"750eb91e4535c14ec4bf03f60cb5756a1c93f68f\"), Commit(sha=\"4a8cc3cb64821cb58182a3a94be38f17d27a8e8f\"), Commit(sha=\"1501bac01f8183d223a47ca7f23649a5d98d7e00\"), Commit(sha=\"6c2a1247d4e13a37261081279f250ffa82ed5c96\"), Commit(sha=\"cc02db3df76c8a16ecee3f7a937366ff427a7c3a\"), Commit(sha=\"49ba929952728ab17635591cf55137c8af01babb\"), Commit(sha=\"ba93368ee5593b15c7b1829f82cbacb9a003476c\"), Commit(sha=\"2034c389cb81f30d30f94acc2a5237377d387dc1\"), Commit(sha=\"09cf3f0163fe3895128cb322f5450672435ede7e\"), Commit(sha=\"825dea0b3aab60bf587130441fab30d8abab775c\"), Commit(sha=\"ced5e055e9313f60c57a7daab4ee89eac9f2c409\"), Commit(sha=\"2cda9ab92b0f4dbfbe72e39a1bc26b9d7e41d28f\"), Commit(sha=\"2db6ca9372c8585a0a894cef5c8be3c51a4547a7\"), Commit(sha=\"4887dd8d4b582f6279c6f23114842d3fd071e62a\"), Commit(sha=\"14a4c26acde03b2ebff1e1e84da29d60bc532410\"), Commit(sha=\"b57627cc8931bdeb56b48bd853beac0b569e6e93\"), Commit(sha=\"86cde628c887d7b52fd4f89d8fe8d77e7d74832c\"), Commit(sha=\"2df87cad452ef32a3b81d869dd3e5cd7af6f9bec\"), Commit(sha=\"2d73890c0bf8e68223bef89f2ae543f05cfac913\"), Commit(sha=\"89528ae791f7d3b93c026fb70952347d6056953f\"), Commit(sha=\"58709c4fe45627fc57fb88f0c05833c06455ec89\"), Commit(sha=\"32011b647f723a6f955644ae09b5b358e3b5783a\"), Commit(sha=\"d3e36fdde865bea8a440359df80bd9dfa8a08593\"), Commit(sha=\"af103caadf46f82fa4a8e31714f23a17fd31f309\"), Commit(sha=\"5e2c75d941c350cf87f97966efe9a4b02beb55bd\"), Commit(sha=\"c42c3443ac28336498b6adb3f52d673967b49a28\"), Commit(sha=\"46ebf45b02631c31185c8079010933fb03ccaf4f\"), Commit(sha=\"924516da3f79c1dc0e7ff19864fd93ff4f0793ba\"), Commit(sha=\"77a129075dc0e332124de8b4c2d070a5ef691d2f\"), Commit(sha=\"f5b2bf3d8f11502e7e0e4f07c451d843ff154154\"), Commit(sha=\"9ce8ca52dec61cc0ff2d9cfce4bd027e2fa8e392\"), Commit(sha=\"11f1fc19e20102a74ccb927253ba0e10ef799205\"), Commit(sha=\"becb4e3a2cbb4c5da146abcd8d66f38dab42e38a\"), Commit(sha=\"68e9baf90f5be22aedce21601e6914e723d2739d\"), Commit(sha=\"82b028d59896a3f1c41ab9dfa21df4c9ee912c81\"), Commit(sha=\"bdc025e2d6d1d027224bdec5e4bdc71a4ad77bcd\"), Commit(sha=\"ec26d4e5ca87ca7fb3dc195bf2a1cca941c8b938\"), Commit(sha=\"ef4e215262a5389ae723807a6d7463b990884700\"), Commit(sha=\"32a63d7d09589d80a8ff614be85d854792798aee\"), Commit(sha=\"de998e4acb497d8c03fa705a4411c58322b95801\"), Commit(sha=\"882e2a31241ec41d005a9b75068bb61a730cb7d8\"), Commit(sha=\"084c665cc48a66b7f581aa5c7fd35ff6daf1ae0d\"), Commit(sha=\"93f3c6a0b979109ecbd829bc2a65ee85a7171d96\"), Commit(sha=\"b2acb4bea1ce28d6510c50554a5c8bd9ae73d075\"), Commit(sha=\"f238ecf50f34c71d5b20c4358fad893e7de1fbe1\"), Commit(sha=\"a301521df75753743ad5fe0695573dfa0e30f763\"), Commit(sha=\"c81e47085422dd923d29622308bce195b88feae8\"), Commit(sha=\"866e2386be8f7cd6bca8a2e464bc96ef5c2b13a9\"), Commit(sha=\"b57c0c7e96f81446c6fd0330eb84010298054534\"), Commit(sha=\"2e2c924fc0f37857f651f0ea8657d874e208a895\"), Commit(sha=\"50a668049ce72838027971fc52809195f766f9b2\"), Commit(sha=\"a9266a78c80f5f99487de64c9d91748f256ef761\"), Commit(sha=\"585e6e67f91b7c7772150dd2ae4601c0e6d11575\"), Commit(sha=\"d5a4daa97f8b087c3a6cb6d9af0e7d14be8bb96c\"), Commit(sha=\"b74a34901e091e8903a34c8220e4d65470843cbe\"), Commit(sha=\"4fe41a6e22df68258d1b40ead30d72ca25ff8265\"), Commit(sha=\"1f158e17b4475177fe12e75f675940c674873e82\"), Commit(sha=\"88901a554b79558ecb599c98426d11cf25242614\"), Commit(sha=\"88dfa16d977ebab6f176e6c2b403b17a04a31150\"), Commit(sha=\"9ca3b2672840b2503639e47b56efe919c695009d\"), Commit(sha=\"863eb3077444423b7cc3f5c40f1d6a5d99db1e37\"), Commit(sha=\"a23e5490602b37aa55678c0534498cd39a924053\"), Commit(sha=\"0e823d136cb23fa9ab258b38329acaa53ec6e63f\"), Commit(sha=\"bbfd4f218fe1f44de8b04022c586a78ac6b6cf3c\"), Commit(sha=\"a1e1cc5ee2a4803f5704543d6facc0648d26e3f2\"), Commit(sha=\"cdab07f61acb719b3f1d21d0adebfc9adef9a4f1\"), Commit(sha=\"d03680feef3ea72d3cec298ee75b281356888dde\"), Commit(sha=\"b4bc0fffd5fc25a3c10cce55acc9239215d209fc\"), Commit(sha=\"b11bf20ac31f9faf9640b88308c46ab961e37432\"), Commit(sha=\"eb17f17ba827f16481365e6ab69ace3c86c40caa\"), Commit(sha=\"8d8ea1dcede9947cdec334439880a3ac858341a1\"), Commit(sha=\"dbe53221055f051294a137f63c9dfca5d8820b2e\"), Commit(sha=\"4750ae68efb3461c6c21f14f77dce06ab315f684\"), Commit(sha=\"7e313f84bfc2681fd707a6a810b1bab523406714\"), Commit(sha=\"1821cf92a4addad9e5e6891e16f9d7a86f207a5a\"), Commit(sha=\"adcbea5b9a7613c4bcf70e638f28471831fe6a05\"), Commit(sha=\"dc7e905147a21b9aaca96bbf1a1f4503acc18c1b\"), Commit(sha=\"3d08c295f3efe990b486c5a69b418181cc9427e4\"), Commit(sha=\"07d207defae0317aa6c9bd6e3d52539f78e4f369\"), Commit(sha=\"cbc2709bc8e691fc50a980d984e2c085dad1580e\"), Commit(sha=\"c1d3678a634adc38641e684618648cf3ae18c5b5\"), Commit(sha=\"15c85a5f9974614a6df82866ad3d301413867165\"), Commit(sha=\"455c8a7447a9f5b743c65cdadc11ae780276db81\"), Commit(sha=\"2f71433e4830b9d9becac42b3062b2932c69fb93\"), Commit(sha=\"f7163653ec2951444fab037b6710f56baf1fb40e\"), Commit(sha=\"9badd3f31f3720335cc5c21a5c204fa3d4e1b589\"), Commit(sha=\"0bfba5b8f3f791222ce2f9498effc34510891375\"), Commit(sha=\"e0e89f150c9ca9a5a1f085214fa2571a799ac36b\"), Commit(sha=\"c40698a391d72daffedc8fbb6ef049138f8154a4\"), Commit(sha=\"79929c76afad38f07ae23e64cf5f204ce07846d4\"), Commit(sha=\"8f16422a0a2ea4d15148d4b61aee4b33c213c0c7\"), Commit(sha=\"601b1853cb55ab7f6019f8ea75c35cce53865233\"), Commit(sha=\"d0112ea8f7255773db5518ff2d81d56a62830e0d\"), Commit(sha=\"d99bd4908561d60066d6e37bf714efa69b2119da\"), Commit(sha=\"a0a4e5c5d5575d4ad4d2237e978484a137dca94b\"), Commit(sha=\"a493b1e15ef9edd3853134f4fd9f6acb08e07198\"), Commit(sha=\"ea7301a1cc57ed7462d294b1dbf57e0554315bbb\"), Commit(sha=\"5adeb562ec5bf1a0f86822dd2f0a7899df73fc2a\"), Commit(sha=\"75132738620bac4f7bdb3d86daee6db4992fcb92\"), Commit(sha=\"3f8e14df7d54a44f634fdc8e0f6bb51c8f449d99\"), Commit(sha=\"89451348bbc0c0d5035a055b829ec35dcc046be8\"), Commit(sha=\"5e63bfb0b7d2893bc8bd6ccba4961b030b16d6a0\"), Commit(sha=\"e8ed19a8a3ea9f339d5d9b56a7b6ca4290079700\"), Commit(sha=\"56132aee25d0984e7853e50eedb32b8bdfff3422\"), Commit(sha=\"bda8119ed50191e82211a442b3108525338019bc\"), Commit(sha=\"64585e79d2cc2d64c4abbaff6b221f9326772434\"), Commit(sha=\"c234d3708ee39a9057df8ffbe2104aaf73a76822\"), Commit(sha=\"e140a711a01309d71801756f0b78e507948cc5d2\"), Commit(sha=\"504fad35a4b0796b4cb28bc9dbddfce8129bc8c8\"), Commit(sha=\"55717eb871217c012ad61e76f6a618bcece2819b\"), Commit(sha=\"49f66747f0fd4b04e70b7e81f665d8058132bc75\"), Commit(sha=\"78c9fb2d7a274b40b046666a2ea6021bb0f2d71d\"), Commit(sha=\"1db2d00d66e3325598d0634824e90f3c4739f643\"), Commit(sha=\"0c2047628df1c2ddd2b04321059bcfb1785f3470\"), Commit(sha=\"c22702bfa192905547dabbb161f03bfeb38212c7\"), Commit(sha=\"ee7a8a0b87f4ca5bd00a00a13836eed388a83795\"), Commit(sha=\"f605a0e6744b25a73bc3cfec82ae159b28d8b3ac\"), Commit(sha=\"114a309635b75a016f209c917d1c4bad4b440b9c\"), Commit(sha=\"b325d86d14e0989af8b62441d7dd9c376a70a3f6\"), Commit(sha=\"81890751258d09e0a20cd24f960dd28d2acf0872\"), Commit(sha=\"3be12688a3bfe6a4a31b98ce279c8d2fdbc6abda\"), Commit(sha=\"3ab722bd736a55581ec665f577fcb11547dfb872\"), Commit(sha=\"c4d5ba7931d33008f06994b990e64be4313938c6\"), Commit(sha=\"d7aa13428fea93fa96234276c9be241ecc0d1f1e\")]\n"
     ]
    }
   ],
   "source": [
    "print(list(repo.get_commits(since=datetime(2018, 11, 10))))"
   ]
  },
  {
   "cell_type": "markdown",
   "id": "2d07d979",
   "metadata": {},
   "source": [
    "### Challenge 3 Hidden Cold Joke"
   ]
  },
  {
   "cell_type": "code",
   "execution_count": 12,
   "id": "063a6743",
   "metadata": {},
   "outputs": [],
   "source": [
    "repo = github.get_repo('ironhack-datalabs/scavenger')"
   ]
  },
  {
   "cell_type": "code",
   "execution_count": 13,
   "id": "e2a7b030",
   "metadata": {},
   "outputs": [],
   "source": [
    "contents = repo.get_contents('')"
   ]
  },
  {
   "cell_type": "code",
   "execution_count": 14,
   "id": "239923dd",
   "metadata": {},
   "outputs": [
    {
     "data": {
      "text/plain": [
       "[ContentFile(path=\".gitignore\"),\n",
       " ContentFile(path=\"15024\"),\n",
       " ContentFile(path=\"15534\"),\n",
       " ContentFile(path=\"17020\"),\n",
       " ContentFile(path=\"30351\"),\n",
       " ContentFile(path=\"40303\"),\n",
       " ContentFile(path=\"44639\"),\n",
       " ContentFile(path=\"45525\"),\n",
       " ContentFile(path=\"47222\"),\n",
       " ContentFile(path=\"47830\"),\n",
       " ContentFile(path=\"49418\"),\n",
       " ContentFile(path=\"50896\"),\n",
       " ContentFile(path=\"55417\"),\n",
       " ContentFile(path=\"55685\"),\n",
       " ContentFile(path=\"60224\"),\n",
       " ContentFile(path=\"64880\"),\n",
       " ContentFile(path=\"66032\"),\n",
       " ContentFile(path=\"68848\"),\n",
       " ContentFile(path=\"70751\"),\n",
       " ContentFile(path=\"70985\"),\n",
       " ContentFile(path=\"88596\"),\n",
       " ContentFile(path=\"89046\"),\n",
       " ContentFile(path=\"89338\"),\n",
       " ContentFile(path=\"91701\"),\n",
       " ContentFile(path=\"97881\"),\n",
       " ContentFile(path=\"98750\")]"
      ]
     },
     "execution_count": 14,
     "metadata": {},
     "output_type": "execute_result"
    }
   ],
   "source": [
    "contents"
   ]
  },
  {
   "cell_type": "code",
   "execution_count": 15,
   "id": "7bc9ee9f",
   "metadata": {},
   "outputs": [
    {
     "data": {
      "text/plain": [
       "'15024'"
      ]
     },
     "execution_count": 15,
     "metadata": {},
     "output_type": "execute_result"
    }
   ],
   "source": [
    "contents[1].path"
   ]
  },
  {
   "cell_type": "code",
   "execution_count": 16,
   "id": "625303e9",
   "metadata": {},
   "outputs": [],
   "source": [
    "paths = list()\n",
    "\n",
    "for content in contents:\n",
    "    if content.path != '.gitignore':\n",
    "        carpeta = repo.get_contents(content.path) #entrando a las carpetas\n",
    "        #print(carpeta) \n",
    "        #print('--------'*5)\n",
    "        for archivo in carpeta: \n",
    "            if archivo.path.endswith('.scavengerhunt'):\n",
    "                #print(archivo.path)\n",
    "                paths.append(archivo.path)\n",
    "        "
   ]
  },
  {
   "cell_type": "code",
   "execution_count": 17,
   "id": "96be0b75",
   "metadata": {
    "collapsed": true
   },
   "outputs": [
    {
     "data": {
      "text/plain": [
       "['15024/.0006.scavengerhunt',\n",
       " '15534/.0008.scavengerhunt',\n",
       " '15534/.0012.scavengerhunt',\n",
       " '17020/.0007.scavengerhunt',\n",
       " '30351/.0021.scavengerhunt',\n",
       " '40303/.0022.scavengerhunt',\n",
       " '44639/.0005.scavengerhunt',\n",
       " '45525/.0018.scavengerhunt',\n",
       " '47222/.0016.scavengerhunt',\n",
       " '47222/.0024.scavengerhunt',\n",
       " '47830/.0010.scavengerhunt',\n",
       " '49418/.0014.scavengerhunt',\n",
       " '50896/.0011.scavengerhunt',\n",
       " '55417/.0023.scavengerhunt',\n",
       " '55685/.0020.scavengerhunt',\n",
       " '60224/.0003.scavengerhunt',\n",
       " '68848/.0004.scavengerhunt',\n",
       " '70751/.0019.scavengerhunt',\n",
       " '70985/.0017.scavengerhunt',\n",
       " '88596/.0002.scavengerhunt',\n",
       " '89338/.0013.scavengerhunt',\n",
       " '91701/.0015.scavengerhunt',\n",
       " '97881/.0009.scavengerhunt',\n",
       " '98750/.0001.scavengerhunt']"
      ]
     },
     "execution_count": 17,
     "metadata": {},
     "output_type": "execute_result"
    }
   ],
   "source": [
    "paths"
   ]
  },
  {
   "cell_type": "code",
   "execution_count": 22,
   "id": "98ae2c44",
   "metadata": {},
   "outputs": [],
   "source": [
    "paths.sort(key=lambda x: re.findall(r'\\.\\d.*', x)) #para ordenarlo"
   ]
  },
  {
   "cell_type": "code",
   "execution_count": 23,
   "id": "7ac6da6b",
   "metadata": {
    "collapsed": true
   },
   "outputs": [
    {
     "data": {
      "text/plain": [
       "['98750/.0001.scavengerhunt',\n",
       " '88596/.0002.scavengerhunt',\n",
       " '60224/.0003.scavengerhunt',\n",
       " '68848/.0004.scavengerhunt',\n",
       " '44639/.0005.scavengerhunt',\n",
       " '15024/.0006.scavengerhunt',\n",
       " '17020/.0007.scavengerhunt',\n",
       " '15534/.0008.scavengerhunt',\n",
       " '97881/.0009.scavengerhunt',\n",
       " '47830/.0010.scavengerhunt',\n",
       " '50896/.0011.scavengerhunt',\n",
       " '15534/.0012.scavengerhunt',\n",
       " '89338/.0013.scavengerhunt',\n",
       " '49418/.0014.scavengerhunt',\n",
       " '91701/.0015.scavengerhunt',\n",
       " '47222/.0016.scavengerhunt',\n",
       " '70985/.0017.scavengerhunt',\n",
       " '45525/.0018.scavengerhunt',\n",
       " '70751/.0019.scavengerhunt',\n",
       " '55685/.0020.scavengerhunt',\n",
       " '30351/.0021.scavengerhunt',\n",
       " '40303/.0022.scavengerhunt',\n",
       " '55417/.0023.scavengerhunt',\n",
       " '47222/.0024.scavengerhunt']"
      ]
     },
     "execution_count": 23,
     "metadata": {},
     "output_type": "execute_result"
    }
   ],
   "source": [
    "paths"
   ]
  },
  {
   "cell_type": "code",
   "execution_count": 25,
   "id": "cbab801c",
   "metadata": {
    "scrolled": false
   },
   "outputs": [
    {
     "name": "stdout",
     "output_type": "stream",
     "text": [
      "b'In\\n'\n",
      "b'data\\n'\n",
      "b'science,\\n'\n",
      "b'80\\n'\n",
      "b'percent\\n'\n",
      "b'of\\n'\n",
      "b'time\\n'\n",
      "b'spent\\n'\n",
      "b'is\\n'\n",
      "b'preparing\\n'\n",
      "b'data,\\n'\n",
      "b'20\\n'\n",
      "b'percent\\n'\n",
      "b'of\\n'\n",
      "b'time\\n'\n",
      "b'is\\n'\n",
      "b'spent\\n'\n",
      "b'complaining\\n'\n",
      "b'about\\n'\n",
      "b'the\\n'\n",
      "b'need\\n'\n",
      "b'to\\n'\n",
      "b'prepare\\n'\n",
      "b'data.\\n'\n"
     ]
    }
   ],
   "source": [
    "for path in paths:\n",
    "    content = repo.get_contents(path)\n",
    "    print(content.decoded_content) #método para extraer contenido \"decoded_content\""
   ]
  },
  {
   "cell_type": "code",
   "execution_count": null,
   "id": "39f34747",
   "metadata": {},
   "outputs": [],
   "source": []
  }
 ],
 "metadata": {
  "kernelspec": {
   "display_name": "Python 3 (ipykernel)",
   "language": "python",
   "name": "python3"
  },
  "language_info": {
   "codemirror_mode": {
    "name": "ipython",
    "version": 3
   },
   "file_extension": ".py",
   "mimetype": "text/x-python",
   "name": "python",
   "nbconvert_exporter": "python",
   "pygments_lexer": "ipython3",
   "version": "3.9.7"
  }
 },
 "nbformat": 4,
 "nbformat_minor": 5
}
